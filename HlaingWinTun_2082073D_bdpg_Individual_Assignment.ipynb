{
 "cells": [
  {
   "cell_type": "markdown",
   "id": "30bcfba6",
   "metadata": {},
   "source": [
    "### Individual Assignment (Big Data Programming)\n",
    "#### Name               = Hlaing Win Tun\n",
    "#### Admission No. = 2082073D\n",
    "#### Application      = Car Price Prediction and Analysis"
   ]
  },
  {
   "cell_type": "markdown",
   "id": "687f42c2",
   "metadata": {},
   "source": [
    "### Loading the Data\n",
    "\n",
    "First, load the dataset into a DataFrame."
   ]
  },
  {
   "cell_type": "code",
   "execution_count": 1,
   "id": "9a2e46b4",
   "metadata": {},
   "outputs": [
    {
     "name": "stdout",
     "output_type": "stream",
     "text": [
      "root\n",
      " |-- id: integer (nullable = true)\n",
      " |-- model: string (nullable = true)\n",
      " |-- year: integer (nullable = true)\n",
      " |-- price: integer (nullable = true)\n",
      " |-- transmission: string (nullable = true)\n",
      " |-- mileage: integer (nullable = true)\n",
      " |-- fuelType: string (nullable = true)\n",
      " |-- tax: integer (nullable = true)\n",
      " |-- mpg: double (nullable = true)\n",
      " |-- engineSize: double (nullable = true)\n",
      "\n",
      "+---+-----+----+-----+------------+-------+--------+---+----+----------+\n",
      "|id |model|year|price|transmission|mileage|fuelType|tax|mpg |engineSize|\n",
      "+---+-----+----+-----+------------+-------+--------+---+----+----------+\n",
      "|1  | GT86|2016|16000|Manual      |24089  |Petrol  |265|36.2|2.0       |\n",
      "|2  | GT86|2017|15995|Manual      |18615  |Petrol  |145|36.2|2.0       |\n",
      "|3  | GT86|2015|13998|Manual      |27469  |Petrol  |265|36.2|2.0       |\n",
      "|4  | GT86|2017|18998|Manual      |14736  |Petrol  |150|36.2|2.0       |\n",
      "|5  | GT86|2017|17498|Manual      |36284  |Petrol  |145|36.2|2.0       |\n",
      "+---+-----+----+-----+------------+-------+--------+---+----+----------+\n",
      "only showing top 5 rows\n",
      "\n"
     ]
    }
   ],
   "source": [
    "toyotaDF = spark.read.csv(\"/home/training/bdpg/Assignment/toyota.csv\", inferSchema=True, header=True)\n",
    "toyotaDF.printSchema()\n",
    "toyotaDF.show(5, truncate=False)"
   ]
  },
  {
   "cell_type": "markdown",
   "id": "72f88660",
   "metadata": {},
   "source": [
    "### Data Cleaning\n",
    "#### Remove Duplicates\n",
    "From the resulting DataFrame, Remove duplicates (records that are exact copies of each other within the subset)"
   ]
  },
  {
   "cell_type": "code",
   "execution_count": 2,
   "id": "0c22b251",
   "metadata": {},
   "outputs": [
    {
     "name": "stdout",
     "output_type": "stream",
     "text": [
      "Count of dataset before data cleaning =>  6742\n",
      "Count of dataset after removing duplicate records =>  6699\n"
     ]
    }
   ],
   "source": [
    "print(f\"Count of dataset before data cleaning => \", toyotaDF.count())\n",
    "\n",
    "car_df = toyotaDF.dropDuplicates(subset=[\"model\", \"year\", \"price\", \"transmission\", \n",
    "                                         \"mileage\", \"fuelType\", \"tax\", \"mpg\", \"engineSize\"]);\n",
    "\n",
    "print(f\"Count of dataset after removing duplicate records => \", car_df.count())"
   ]
  },
  {
   "cell_type": "markdown",
   "id": "f46be175",
   "metadata": {},
   "source": [
    "#### Missing Observations \n",
    "Find the missing observations by generate the percentage of missing observations in each column."
   ]
  },
  {
   "cell_type": "code",
   "execution_count": 3,
   "id": "344c09de",
   "metadata": {},
   "outputs": [
    {
     "name": "stdout",
     "output_type": "stream",
     "text": [
      "-RECORD 0------------------------------------\n",
      " id_missing           | 0.0                  \n",
      " model_missing        | 0.0                  \n",
      " year_missing         | 1.492760113449565E-4 \n",
      " price_missing        | 0.0                  \n",
      " transmission_missing | 1.492760113449565E-4 \n",
      " mileage_missing      | 0.0                  \n",
      " fuelType_missing     | 1.492760113449565E-4 \n",
      " tax_missing          | 0.0                  \n",
      " mpg_missing          | 0.0                  \n",
      " engineSize_missing   | 0.0                  \n",
      "\n"
     ]
    }
   ],
   "source": [
    "import pyspark.sql.functions as fn\n",
    "car_df.agg( * [(1 - fn.count(c) / fn.count(\"*\")).alias(c + '_missing') for c in car_df.columns] \n",
    "          ).show(vertical=True)"
   ]
  },
  {
   "cell_type": "markdown",
   "id": "078f3224",
   "metadata": {},
   "source": [
    "There are still missing observations in the year, transmision, fuelType columns. Since the number of records containing missing values are small, hence drop these records from the DataFrame."
   ]
  },
  {
   "cell_type": "code",
   "execution_count": 3,
   "id": "a6dd4aba",
   "metadata": {},
   "outputs": [
    {
     "name": "stdout",
     "output_type": "stream",
     "text": [
      "+---+-----+----+-----+------------+-------+--------+---+----+----------+\n",
      "| id|model|year|price|transmission|mileage|fuelType|tax| mpg|engineSize|\n",
      "+---+-----+----+-----+------------+-------+--------+---+----+----------+\n",
      "|  8| GT86|null|18995|      Manual|  12340|  Petrol|145|36.2|       2.0|\n",
      "|  6| GT86|2017|15998|      Manual|  26919|    null|260|36.2|       2.0|\n",
      "| 14| GT86|2019|23995|        null|    995|  Petrol|145|33.2|       2.0|\n",
      "+---+-----+----+-----+------------+-------+--------+---+----+----------+\n",
      "\n",
      "Count of dataset after removing the missing records =>  6696\n"
     ]
    }
   ],
   "source": [
    "car_df.where( (car_df.year.isNull()) | (car_df.transmission.isNull()) | (car_df.fuelType.isNull())).show(10)\n",
    "car_df_clean_misingrecords = car_df.dropna(subset=[\"year\", \"transmission\", \"fuelType\"])\n",
    "print(f\"Count of dataset after removing the missing records => \", car_df_clean_misingrecords.count())"
   ]
  },
  {
   "cell_type": "markdown",
   "id": "3b37f902",
   "metadata": {},
   "source": [
    "Notice that there are spaces that are in model column which infront of the car model text. Let us remove them:"
   ]
  },
  {
   "cell_type": "code",
   "execution_count": 4,
   "id": "8c7f8ea4",
   "metadata": {},
   "outputs": [
    {
     "name": "stdout",
     "output_type": "stream",
     "text": [
      "+----+-------+----+-----+------------+-------+--------+---+----+----------+\n",
      "|  id|  model|year|price|transmission|mileage|fuelType|tax| mpg|engineSize|\n",
      "+----+-------+----+-----+------------+-------+--------+---+----+----------+\n",
      "|  27|   GT86|2016|15995|   Semi-Auto|  19460|  Petrol|200|39.8|       2.0|\n",
      "| 160|Corolla|2019|20990|      Manual|   8503|  Petrol|150|39.2|       1.2|\n",
      "| 218|Corolla|2019|21999|   Automatic|   8171|  Hybrid|135|78.5|       1.8|\n",
      "| 417|   RAV4|2014|10995|      Manual|  59627|  Diesel|125|57.6|       2.0|\n",
      "| 598|   RAV4|2016|19490|   Automatic|   6254|  Petrol|200|43.5|       2.0|\n",
      "| 614|   RAV4|2013|12295|      Manual|  43573|  Diesel|125|57.6|       2.0|\n",
      "| 882|  Yaris|2013| 6998|      Manual|  17121|  Petrol|125|51.4|       1.3|\n",
      "| 923|  Yaris|2017| 9998|      Manual|  22500|  Petrol|145|55.0|       1.3|\n",
      "|1309|  Yaris|2018| 9788|      Manual|  12550|  Petrol|145|58.9|       1.5|\n",
      "|1340|  Yaris|2015| 7495|      Manual|  24000|  Petrol| 30|58.0|       1.3|\n",
      "+----+-------+----+-----+------------+-------+--------+---+----+----------+\n",
      "only showing top 10 rows\n",
      "\n"
     ]
    }
   ],
   "source": [
    "from pyspark.sql import functions as fn\n",
    "car_df1 = car_df_clean_misingrecords.withColumn(\"model\", fn.regexp_replace(\"model\", ' ', ''))\n",
    "car_df1.show(10)"
   ]
  },
  {
   "cell_type": "markdown",
   "id": "eafbf6e4",
   "metadata": {},
   "source": [
    "Notice that the transmission is typically 'Automatic' or 'Manual' but there are records with transmission \"Auto\". It would be good to standardise the values in the transmission column by replacing occurences of \"Auto\" with \"Automatic\".\n",
    "Notice one more is that car model \"Corola\" spelling have to correct with \"Corolla\"."
   ]
  },
  {
   "cell_type": "code",
   "execution_count": 6,
   "id": "0952bef2",
   "metadata": {},
   "outputs": [
    {
     "name": "stdout",
     "output_type": "stream",
     "text": [
      "+----+------+----+-----+------------+-------+--------+---+----+----------+\n",
      "|  id| model|year|price|transmission|mileage|fuelType|tax| mpg|engineSize|\n",
      "+----+------+----+-----+------------+-------+--------+---+----+----------+\n",
      "|1868| Yaris|2019|17589|        Auto|   2251|  Petrol|145|47.9|       1.5|\n",
      "|1911| Yaris|2016|12295|        Auto|  13849|  Hybrid|  0|86.0|       1.5|\n",
      "| 104|Corola|2019|18498|      Manual|   5087|  Petrol|145|39.2|       1.2|\n",
      "|1883| Yaris|2015|12000|        Auto|   7929|  Hybrid|  0|78.0|       1.5|\n",
      "|  96|Corola|2019|21995|   Automatic|   9100|  Hybrid|135|58.9|       1.8|\n",
      "| 100|Corola|2019|21998|   Automatic|   9023|  Hybrid|135|72.4|       2.0|\n",
      "+----+------+----+-----+------------+-------+--------+---+----+----------+\n",
      "\n"
     ]
    },
    {
     "data": {
      "text/plain": [
       "0"
      ]
     },
     "execution_count": 6,
     "metadata": {},
     "output_type": "execute_result"
    }
   ],
   "source": [
    "car_df2 = car_df1.filter( (car_df1.model == \"Corola\") | (car_df1.transmission == \"Auto\"))\n",
    "car_df2.show()\n",
    "\n",
    "car_df3 = car_df1.replace([\"Corola\", \"Auto\"], [\"Corolla\", \"Automatic\"], [\"model\", \"transmission\"])\n",
    "car_df3.filter( (car_df3.model == \"Corola\") | (car_df3.transmission == \"Auto\")).count()"
   ]
  },
  {
   "cell_type": "markdown",
   "id": "7922ec39",
   "metadata": {},
   "source": [
    "#### Write DataFrame\n",
    "\n",
    "Save data frame as csv to visualize outliers values using tableau"
   ]
  },
  {
   "cell_type": "code",
   "execution_count": 7,
   "id": "49c7e3f0",
   "metadata": {},
   "outputs": [],
   "source": [
    "car_df3.coalesce(1).write.format(\"csv\").option('header'\n",
    "                                               ,True).option(\"compression\",\n",
    "                                                             \"gzip\").mode('overwrite').save(\"/home/training/Downloads/outliers-toyota\")"
   ]
  },
  {
   "cell_type": "markdown",
   "id": "45c051f0",
   "metadata": {},
   "source": [
    "#### Outliers\n",
    "Find the outliers for the price column. First, we calculate the upper and lower cut off points for the price column using the approxQuantile method. After that, remove records having the outlier values. "
   ]
  },
  {
   "cell_type": "code",
   "execution_count": 9,
   "id": "15ebfc37",
   "metadata": {},
   "outputs": [
    {
     "name": "stdout",
     "output_type": "stream",
     "text": [
      "Count of dataset before removing outlier values =  6696\n",
      "Count of dataset after removing outlier values =  6210\n"
     ]
    }
   ],
   "source": [
    "print(f\"Count of dataset before removing outlier values = \", car_df3.count())\n",
    "quantiles = car_df3.approxQuantile(\"price\", [0.25, 0.75], 0.05)\n",
    "IQR = quantiles[1] - quantiles[0]\n",
    "bounds = [ quantiles[0] - 1.5 * IQR, quantiles[1] + 1.5 * IQR ]\n",
    "car_df4 =car_df3.filter( (car_df3.price >= bounds[0]) & (car_df3.price <= bounds[1]) )\n",
    "print(f\"Count of dataset after removing outlier values = \", car_df4.count())"
   ]
  },
  {
   "cell_type": "markdown",
   "id": "d3665dcb",
   "metadata": {},
   "source": [
    "#### Write DataFrame\n",
    "Save clean data frame as csv to visualize business analytics insights using tableau"
   ]
  },
  {
   "cell_type": "code",
   "execution_count": 10,
   "id": "07151c64",
   "metadata": {},
   "outputs": [],
   "source": [
    "car_df4.coalesce(1).write.format(\"csv\").option('header'\n",
    "                                               ,True).option(\"compression\"\n",
    "                                                             ,\"gzip\").mode('overwrite').save(\"/home/training/Downloads/clean-toyota\")"
   ]
  },
  {
   "cell_type": "markdown",
   "id": "7be7899c",
   "metadata": {},
   "source": [
    "### Data Exploration\n",
    "\n",
    "#### Descriptive Statistics\n",
    "Descriptive Statistics of all the numerical features."
   ]
  },
  {
   "cell_type": "code",
   "execution_count": 11,
   "id": "17ecb03f",
   "metadata": {},
   "outputs": [
    {
     "name": "stdout",
     "output_type": "stream",
     "text": [
      "+-------+------------------+------------------+------------------+-----------------+------------------+------------------+\n",
      "|summary|              year|             price|           mileage|              tax|               mpg|        engineSize|\n",
      "+-------+------------------+------------------+------------------+-----------------+------------------+------------------+\n",
      "|  count|              6210|              6210|              6210|             6210|              6210|              6210|\n",
      "|   mean|2016.5869565217392|11319.228341384864| 23994.99533011272|90.34702093397746|63.395732689210966|1.4199033816425122|\n",
      "| stddev|2.1943551748329857| 4455.882869451738|19235.864691553918| 73.5971798481796|14.097003955494285|0.3935254595696693|\n",
      "|    min|              1998|               850|                 2|                0|               2.8|               0.0|\n",
      "|    max|              2020|             22750|            174419|              565|             235.0|               4.2|\n",
      "+-------+------------------+------------------+------------------+-----------------+------------------+------------------+\n",
      "\n"
     ]
    }
   ],
   "source": [
    "car_df4.describe(['year', 'price','mileage','tax','mpg','engineSize']).show(truncate=True)"
   ]
  },
  {
   "cell_type": "markdown",
   "id": "6716584a",
   "metadata": {},
   "source": [
    "The skewness of all the numerical features"
   ]
  },
  {
   "cell_type": "code",
   "execution_count": 12,
   "id": "06cc71e0",
   "metadata": {},
   "outputs": [
    {
     "name": "stdout",
     "output_type": "stream",
     "text": [
      "-RECORD 0------------------------------------\n",
      " skewness(tax)        | 0.049360382517181424 \n",
      " skewness(mileage)    | 1.8936126406803946   \n",
      " skewness(price)      | 0.7224169729102028   \n",
      " skewness(year)       | -2.3019387764367356  \n",
      " skewness(mpg)        | 2.9814315853312583   \n",
      " skewness(engineSize) | 0.754390956287382    \n",
      "\n"
     ]
    }
   ],
   "source": [
    "car_df4.agg( {'year': 'skewness', 'price': 'skewness', 'mileage': 'skewness', 'tax': 'skewness', 'mpg': 'skewness', 'engineSize':'skewness'} ).show(vertical=True)"
   ]
  },
  {
   "cell_type": "markdown",
   "id": "9e026a7b",
   "metadata": {},
   "source": [
    "#### Correlations\n",
    "\n",
    "The correlation matrix between price and numerical features"
   ]
  },
  {
   "cell_type": "code",
   "execution_count": 13,
   "id": "f40e130f",
   "metadata": {},
   "outputs": [
    {
     "name": "stdout",
     "output_type": "stream",
     "text": [
      "╒═══════╤══════════╤═══════════╤══════════╤═══════════╤══════════════╕\n",
      "│       │   year   │  mileage  │   tax    │    mpg    │  engineSize  │\n",
      "╞═══════╪══════════╪═══════════╪══════════╪═══════════╪══════════════╡\n",
      "│ price │ 0.382048 │ -0.239634 │ 0.107696 │ 0.0950218 │   0.665583   │\n",
      "╘═══════╧══════════╧═══════════╧══════════╧═══════════╧══════════════╛\n"
     ]
    }
   ],
   "source": [
    "headers = [\"year\", \"mileage\", \"tax\", \"mpg\", \"engineSize\"]\n",
    "corr = []\n",
    "\n",
    "for j in range(0, len(headers)):\n",
    "    corr_value = car_df4.corr(\"price\", headers[j])\n",
    "    corr.append(corr_value)\n",
    "\n",
    "from tabulate import tabulate\n",
    "print(tabulate([corr], headers=headers, showindex=[\"price\"], tablefmt=\"fancy_grid\", numalign=\"center\"))"
   ]
  },
  {
   "cell_type": "markdown",
   "id": "b6e6bef0",
   "metadata": {},
   "source": [
    "Display the count, average, minimum and maximum number of car prices for each Engine Size "
   ]
  },
  {
   "cell_type": "code",
   "execution_count": 14,
   "id": "ca4f4961",
   "metadata": {},
   "outputs": [
    {
     "name": "stdout",
     "output_type": "stream",
     "text": [
      "+----------+--------------+------------------+-----------------+-----------------+\n",
      "|engineSize|Number of cars| Average car price|Minimum car price|Maximum car price|\n",
      "+----------+--------------+------------------+-----------------+-----------------+\n",
      "|       1.0|          2038|7847.1432777232585|              975|            15000|\n",
      "|       1.5|          1419|11747.646934460889|              950|            19276|\n",
      "|       1.8|          1102| 16227.43557168784|             1200|            22750|\n",
      "|       1.3|           600| 8189.156666666667|             1985|            13690|\n",
      "|       1.2|           294|14827.989795918367|             7000|            21980|\n",
      "|       2.0|           274|14058.872262773722|              850|            22750|\n",
      "|       1.6|           166| 9588.638554216868|              899|            15995|\n",
      "|       2.5|           161|19796.583850931678|             7750|            22690|\n",
      "|       2.2|            58| 9994.724137931034|             2595|            14999|\n",
      "|       1.4|            40|          6722.625|             2490|             9995|\n",
      "+----------+--------------+------------------+-----------------+-----------------+\n",
      "only showing top 10 rows\n",
      "\n"
     ]
    }
   ],
   "source": [
    "car_df4.groupby(\"engineSize\").agg(fn.count(\"price\").alias(\"Number of cars\"), \n",
    "                                       fn.avg(\"price\").alias(\"Average car price\"),\n",
    "                                       fn.min(\"price\").alias(\"Minimum car price\"),\n",
    "                                       fn.max(\"price\").alias(\"Maximum car price\") ) \\\n",
    "                                  .sort(\"Number of cars\", ascending=False).show(10)"
   ]
  },
  {
   "cell_type": "markdown",
   "id": "9a557dd5",
   "metadata": {},
   "source": [
    "Display the count, average, minimum and maximum number of car prices for each Year"
   ]
  },
  {
   "cell_type": "code",
   "execution_count": 15,
   "id": "cd0b4c31",
   "metadata": {},
   "outputs": [
    {
     "name": "stdout",
     "output_type": "stream",
     "text": [
      "+----+--------------+------------------+-----------------+-----------------+\n",
      "|year|Number of cars| Average car price|Minimum car price|Maximum car price|\n",
      "+----+--------------+------------------+-----------------+-----------------+\n",
      "|2017|          1987|11992.245596376448|             5000|            22690|\n",
      "|2016|           976|        11506.8125|             5000|            22499|\n",
      "|2018|           971|11848.855818743563|             5790|            22750|\n",
      "|2019|           947| 13072.64308342133|             6999|            22750|\n",
      "|2015|           512|    9525.615234375|             4350|            21990|\n",
      "|2014|           347| 8804.510086455331|             2991|            19995|\n",
      "|2013|           202| 8329.594059405941|             2470|            18495|\n",
      "|2020|            56|13388.785714285714|             9480|            20692|\n",
      "|2012|            42|6634.5952380952385|             2495|            13199|\n",
      "|2011|            40|          5341.425|             2395|             9995|\n",
      "+----+--------------+------------------+-----------------+-----------------+\n",
      "only showing top 10 rows\n",
      "\n"
     ]
    }
   ],
   "source": [
    "car_df4.groupby(\"year\").agg(fn.count(\"price\").alias(\"Number of cars\"), \n",
    "                                       fn.avg(\"price\").alias(\"Average car price\"),\n",
    "                                       fn.min(\"price\").alias(\"Minimum car price\"),\n",
    "                                       fn.max(\"price\").alias(\"Maximum car price\") ) \\\n",
    "                                  .sort(\"Number of cars\", ascending=False).show(10)"
   ]
  },
  {
   "cell_type": "markdown",
   "id": "c51ff00d",
   "metadata": {},
   "source": [
    "Display the count, average, minimum and maximum number of car prices for each Model of Toyota car"
   ]
  },
  {
   "cell_type": "code",
   "execution_count": 17,
   "id": "042f5cdb",
   "metadata": {},
   "outputs": [
    {
     "name": "stdout",
     "output_type": "stream",
     "text": [
      "+-------+--------------+------------------+-----------------+-----------------+\n",
      "|  model|Number of cars| Average car price|Minimum car price|Maximum car price|\n",
      "+-------+--------------+------------------+-----------------+-----------------+\n",
      "|  Yaris|          2116|10541.540642722117|              950|            19276|\n",
      "|   Aygo|          1940| 7887.239175257732|             1295|            15000|\n",
      "|  Auris|           709| 12524.73060648801|             1599|            19300|\n",
      "|   RAV4|           391|16108.961636828644|             1600|            22690|\n",
      "|   C-HR|           357|19141.655462184874|            11995|            22750|\n",
      "|  Prius|           185| 17484.37297297297|             2495|            22750|\n",
      "|Corolla|           168|18808.613095238095|              899|            22750|\n",
      "|Avensis|           114| 9878.122807017544|              850|            16495|\n",
      "|  Verso|           114|12169.157894736842|             2300|            17995|\n",
      "|  Hilux|            51|18176.254901960783|             7750|            22498|\n",
      "+-------+--------------+------------------+-----------------+-----------------+\n",
      "only showing top 10 rows\n",
      "\n"
     ]
    }
   ],
   "source": [
    "car_df4.groupby(\"model\").agg(fn.count(\"price\").alias(\"Number of cars\"), \n",
    "                                       fn.avg(\"price\").alias(\"Average car price\"),\n",
    "                                       fn.min(\"price\").alias(\"Minimum car price\"),\n",
    "                                       fn.max(\"price\").alias(\"Maximum car price\") ) \\\n",
    "                                  .sort(\"Number of cars\", ascending=False).show(10)"
   ]
  },
  {
   "cell_type": "markdown",
   "id": "ba40dadd",
   "metadata": {},
   "source": [
    "Display the count, average, minimum and maximum number of car prices for each Transmission of Toyota car"
   ]
  },
  {
   "cell_type": "code",
   "execution_count": 18,
   "id": "75908885",
   "metadata": {},
   "outputs": [
    {
     "name": "stdout",
     "output_type": "stream",
     "text": [
      "+------------+--------------+------------------+-----------------+-----------------+\n",
      "|transmission|Number of cars| Average car price|Minimum car price|Maximum car price|\n",
      "+------------+--------------+------------------+-----------------+-----------------+\n",
      "|      Manual|          3742| 9329.974078033138|              850|            22498|\n",
      "|   Automatic|          2251|14738.111505997334|              899|            22750|\n",
      "|   Semi-Auto|           216|10145.189814814816|             3750|            22200|\n",
      "|       Other|             1|           12795.0|            12795|            12795|\n",
      "+------------+--------------+------------------+-----------------+-----------------+\n",
      "\n"
     ]
    }
   ],
   "source": [
    "car_df4.groupby(\"transmission\").agg(fn.count(\"price\").alias(\"Number of cars\"), \n",
    "                                       fn.avg(\"price\").alias(\"Average car price\"),\n",
    "                                       fn.min(\"price\").alias(\"Minimum car price\"),\n",
    "                                       fn.max(\"price\").alias(\"Maximum car price\") ) \\\n",
    "                                  .sort(\"Number of cars\", ascending=False).show(10)"
   ]
  },
  {
   "cell_type": "markdown",
   "id": "fd39c872",
   "metadata": {},
   "source": [
    "Display the count, average, minimum and maximum number of car prices for each Fuel Type of Toyota car"
   ]
  },
  {
   "cell_type": "code",
   "execution_count": 19,
   "id": "e28d30fc",
   "metadata": {},
   "outputs": [
    {
     "name": "stdout",
     "output_type": "stream",
     "text": [
      "+--------+--------------+------------------+-----------------+-----------------+\n",
      "|fuelType|Number of cars| Average car price|Minimum car price|Maximum car price|\n",
      "+--------+--------------+------------------+-----------------+-----------------+\n",
      "|  Petrol|          4009| 9499.212771264654|              899|            22346|\n",
      "|  Hybrid|          1710|15509.954385964913|             2495|            22750|\n",
      "|  Diesel|           402|11600.166666666666|              850|            22498|\n",
      "|   Other|            89| 11514.32584269663|             4995|            22500|\n",
      "+--------+--------------+------------------+-----------------+-----------------+\n",
      "\n"
     ]
    }
   ],
   "source": [
    "car_df4.groupby(\"fuelType\").agg(fn.count(\"price\").alias(\"Number of cars\"), \n",
    "                                       fn.avg(\"price\").alias(\"Average car price\"),\n",
    "                                       fn.min(\"price\").alias(\"Minimum car price\"),\n",
    "                                       fn.max(\"price\").alias(\"Maximum car price\") ) \\\n",
    "                                  .sort(\"Number of cars\", ascending=False).show(10)"
   ]
  },
  {
   "cell_type": "markdown",
   "id": "d9325958",
   "metadata": {},
   "source": [
    "#### Cross Tabulation\n",
    "Display the cross tabulation between the model and transmission"
   ]
  },
  {
   "cell_type": "code",
   "execution_count": 20,
   "id": "b7bb0119",
   "metadata": {},
   "outputs": [
    {
     "name": "stdout",
     "output_type": "stream",
     "text": [
      "+------------------+---------+------+-----+---------+\n",
      "|model_transmission|Automatic|Manual|Other|Semi-Auto|\n",
      "+------------------+---------+------+-----+---------+\n",
      "|             Yaris|      766|  1333|    1|       16|\n",
      "|             Auris|      527|   180|    0|        2|\n",
      "|              C-HR|      276|    81|    0|        0|\n",
      "|              RAV4|      230|   157|    0|        4|\n",
      "|             Prius|      184|     1|    0|        0|\n",
      "|              Aygo|      111|  1672|    0|      157|\n",
      "|           Corolla|       89|    79|    0|        0|\n",
      "|             Hilux|       22|    29|    0|        0|\n",
      "|           Avensis|       18|    94|    0|        2|\n",
      "|             Verso|       17|    65|    0|       32|\n",
      "|       LandCruiser|        4|     2|    0|        0|\n",
      "|              GT86|        3|    38|    0|        3|\n",
      "|                IQ|        3|     5|    0|        0|\n",
      "|           Verso-S|        1|     2|    0|        0|\n",
      "|      UrbanCruiser|        0|     4|    0|        0|\n",
      "+------------------+---------+------+-----+---------+\n",
      "\n"
     ]
    }
   ],
   "source": [
    "car_df4.crosstab(\"model\", \"transmission\").sort([\"Automatic\", \"Manual\"], ascending = False).show()"
   ]
  },
  {
   "cell_type": "markdown",
   "id": "5ed1f001",
   "metadata": {},
   "source": [
    "Display the cross tabulation between the model and Fuel Type"
   ]
  },
  {
   "cell_type": "code",
   "execution_count": 21,
   "id": "bc91a7ea",
   "metadata": {},
   "outputs": [
    {
     "name": "stdout",
     "output_type": "stream",
     "text": [
      "+--------------+------+------+-----+------+\n",
      "|model_fuelType|Diesel|Hybrid|Other|Petrol|\n",
      "+--------------+------+------+-----+------+\n",
      "|          RAV4|   176|   155|    4|    56|\n",
      "|       Avensis|    75|     0|    0|    39|\n",
      "|         Hilux|    51|     0|    0|     0|\n",
      "|         Auris|    41|   498|    1|   169|\n",
      "|         Verso|    29|     0|    2|    83|\n",
      "|         Yaris|    22|   556|   10|  1528|\n",
      "|   LandCruiser|     6|     0|    0|     0|\n",
      "|       Corolla|     1|    86|    1|    80|\n",
      "|  UrbanCruiser|     1|     0|    0|     3|\n",
      "|          C-HR|     0|   242|    0|   115|\n",
      "|         Prius|     0|   173|   12|     0|\n",
      "|          Aygo|     0|     0|   59|  1881|\n",
      "|          GT86|     0|     0|    0|    44|\n",
      "|            IQ|     0|     0|    0|     8|\n",
      "|       Verso-S|     0|     0|    0|     3|\n",
      "+--------------+------+------+-----+------+\n",
      "\n"
     ]
    }
   ],
   "source": [
    "car_df4.crosstab(\"model\", \"fuelType\").sort([\"Diesel\", \"Hybrid\", \"Petrol\"], ascending = False).show()"
   ]
  },
  {
   "cell_type": "markdown",
   "id": "afec107e",
   "metadata": {},
   "source": [
    "Display the cross tabulation between the transmission and Fuel Type"
   ]
  },
  {
   "cell_type": "code",
   "execution_count": 22,
   "id": "c3840488",
   "metadata": {},
   "outputs": [
    {
     "name": "stdout",
     "output_type": "stream",
     "text": [
      "+---------------------+------+------+-----+------+\n",
      "|transmission_fuelType|Diesel|Hybrid|Other|Petrol|\n",
      "+---------------------+------+------+-----+------+\n",
      "|               Manual|   350|     4|    5|  3383|\n",
      "|            Automatic|    51|  1705|   84|   411|\n",
      "|            Semi-Auto|     1|     0|    0|   215|\n",
      "|                Other|     0|     1|    0|     0|\n",
      "+---------------------+------+------+-----+------+\n",
      "\n"
     ]
    }
   ],
   "source": [
    "car_df4.crosstab(\"transmission\", \"fuelType\").sort([\"Diesel\", \"Hybrid\", \"Petrol\"], ascending = False).show()"
   ]
  },
  {
   "cell_type": "markdown",
   "id": "a17929c7",
   "metadata": {},
   "source": [
    "### Data Visualization"
   ]
  },
  {
   "cell_type": "code",
   "execution_count": 23,
   "id": "dc20473a",
   "metadata": {},
   "outputs": [
    {
     "data": {
      "image/png": "[encoded data removed]",
      "text/plain": [
       "<Figure size 1080x720 with 4 Axes>"
      ]
     },
     "metadata": {},
     "output_type": "display_data"
    }
   ],
   "source": [
    "%matplotlib inline\n",
    "import matplotlib.pyplot as plt\n",
    "plt.style.use('ggplot')\n",
    "\n",
    "fig,a =  plt.subplots(2,2,figsize=(15,10))\n",
    "\n",
    "sampleDF = car_df4.sample(fraction = 1.0)\n",
    "price_list = [i[0] for i in car_df4.select(\"price\").collect()]\n",
    "tax_list = [i[0] for i in car_df4.select(\"tax\").collect()]\n",
    "mpg_list = [i[0] for i in car_df4.select(\"mpg\").collect()]\n",
    "engineSize_list = [i[0] for i in car_df4.select(\"engineSize\").collect()]\n",
    "\n",
    "a[0][0].set_title(\"Histogram of 'Price'\")\n",
    "a[0][0].hist(price_list, bins= 30)\n",
    "\n",
    "a[0][1].set_title(\"Histogram of 'Road Tax'\")\n",
    "a[0][1].hist(tax_list, bins= 30)\n",
    "\n",
    "a[1][0].set_title(\"Histogram of 'Mile per gallon'\")\n",
    "a[1][0].hist(mpg_list, bins= 30)\n",
    "\n",
    "a[1][1].set_title(\"Histogram of 'Engine Size'\")\n",
    "a[1][1].hist(engineSize_list, bins= 30)\n",
    "\n",
    "plt.show()"
   ]
  },
  {
   "cell_type": "code",
   "execution_count": 24,
   "id": "e4ef358d",
   "metadata": {},
   "outputs": [
    {
     "data": {
      "image/png": "[encoded data removed]",
      "text/plain": [
       "<Figure size 1080x720 with 4 Axes>"
      ]
     },
     "metadata": {},
     "output_type": "display_data"
    }
   ],
   "source": [
    "collect_price = [i[0] for i in car_df4.select(\"price\").collect()]\n",
    "collect_mileage = [i[0] for i in car_df4.select(\"mileage\").collect()]\n",
    "collect_tax = [i[0] for i in car_df4.select(\"tax\").collect()]\n",
    "collect_mpg = [i[0] for i in car_df4.select(\"mpg\").collect()]\n",
    "collect_engineSize = [i[0] for i in car_df4.select(\"engineSize\").collect()]\n",
    "\n",
    "fig,a =  plt.subplots(2,2,figsize=(15,10))\n",
    "\n",
    "a[0][0].scatter(collect_price, collect_mileage)\n",
    "a[0][0].set_title('Car Price Vs Mileage')\n",
    "a[0][0].set_xlabel('Car Price')\n",
    "a[0][0].set_ylabel('Mileage')\n",
    "\n",
    "a[0][1].scatter(collect_price, collect_mpg)\n",
    "a[0][1].set_title('Car Price Vs Mile per gallon')\n",
    "a[0][1].set_xlabel('Car Price')\n",
    "a[0][1].set_ylabel('Mile per gallon')\n",
    "\n",
    "a[1][0].scatter(collect_price, collect_engineSize)\n",
    "a[1][0].set_title('Car Price Vs Engine Size')\n",
    "a[1][0].set_xlabel('Car Price')\n",
    "a[1][0].set_ylabel('Engine Size')\n",
    "\n",
    "\n",
    "a[1][1].scatter(collect_tax, collect_mileage)\n",
    "a[1][1].set_title('Road Tax Vs Mileage')\n",
    "a[1][1].set_xlabel('Road Tax')\n",
    "a[1][1].set_ylabel('Mileage')\n",
    "\n",
    "plt.show()\n"
   ]
  },
  {
   "cell_type": "code",
   "execution_count": 25,
   "id": "7a9842ea",
   "metadata": {},
   "outputs": [
    {
     "data": {
      "image/png": "[encoded data removed]",
      "text/plain": [
       "<Figure size 1080x1440 with 4 Axes>"
      ]
     },
     "metadata": {},
     "output_type": "display_data"
    }
   ],
   "source": [
    "cargrp_model_df = car_df4.groupby(\"model\").count().sort(\"count\", ascending=False)\n",
    "cargrp_year_df = car_df4.groupby(\"year\").count().sort(\"count\", ascending=False)\n",
    "cargrp_transmission_df = car_df4.groupby(\"transmission\").count().sort(\"count\", ascending=False)\n",
    "cargrp_fuelType_df = car_df4.groupby(\"fuelType\").count().sort(\"count\", ascending=False)\n",
    "\n",
    "collect_model = [i[0] for i in cargrp_model_df.select(\"model\").collect()]\n",
    "collect_model_count = [i[0] for i in cargrp_model_df.select(\"count\").collect()]\n",
    "\n",
    "collect_year = [i[0] for i in cargrp_year_df.select(\"year\").collect()]\n",
    "collect_year_count = [i[0] for i in cargrp_year_df.select(\"count\").collect()]\n",
    "\n",
    "collect_transmission = [i[0] for i in cargrp_transmission_df.select(\"transmission\").collect()]\n",
    "collect_transmission_count = [i[0] for i in cargrp_transmission_df.select(\"count\").collect()]\n",
    "\n",
    "collect_fuelType = [i[0] for i in cargrp_fuelType_df.select(\"fuelType\").collect()]\n",
    "collect_fuelType_count = [i[0] for i in cargrp_fuelType_df.select(\"count\").collect()]\n",
    "\n",
    "fig, (ax1, ax2, ax3, ax4) = plt.subplots(4, 1, figsize=(15,20))\n",
    "fig.tight_layout(h_pad=5, w_pad=5)\n",
    "\n",
    "ax1.bar(collect_model, collect_model_count)\n",
    "ax1.set_title('Total number of cars by model')\n",
    "ax1.set_xlabel('Model of Toyata cars')\n",
    "ax1.set_ylabel('Total number of cars')\n",
    "\n",
    "ax2.bar(collect_year, collect_year_count)\n",
    "ax2.set_title('Total number of cars registered by Year')\n",
    "ax2.set_xlabel('Registration Year of Toyata cars')\n",
    "ax2.set_ylabel('Total number of cars')\n",
    "\n",
    "ax3.bar(collect_transmission, collect_transmission_count)\n",
    "ax3.set_title('Total number of cars by Transmission')\n",
    "ax3.set_xlabel('Transmission')\n",
    "ax3.set_ylabel('Total number of cars')\n",
    "\n",
    "ax4.bar(collect_fuelType, collect_fuelType_count)\n",
    "ax4.set_title('Total number of cars by Fuel Type')\n",
    "ax4.set_xlabel('Fuel Type')\n",
    "ax4.set_ylabel('Total number of cars')\n",
    "\n",
    "plt.show()"
   ]
  },
  {
   "cell_type": "code",
   "execution_count": 26,
   "id": "c5f1a7ab",
   "metadata": {},
   "outputs": [
    {
     "data": {
      "image/png": "[encoded data removed]",
      "text/plain": [
       "<Figure size 432x288 with 2 Axes>"
      ]
     },
     "metadata": {},
     "output_type": "display_data"
    }
   ],
   "source": [
    "import seaborn as sb\n",
    "import numpy as np\n",
    "\n",
    "fig, ax = plt.subplots()\n",
    "\n",
    "headers = [\"year\", \"mileage\", \"tax\", \"mpg\", \"engineSize\"]\n",
    "n_headers = len(headers)\n",
    "corr_matrix = []\n",
    "\n",
    "for i in range(0, n_headers):\n",
    "    temp = [0] * i\n",
    "    for j in range(i, n_headers):\n",
    "        temp.append(car_df4.corr(headers[i], headers[j]))\n",
    "    corr_matrix.append(temp)\n",
    "\n",
    "heat_map = sb.heatmap(np.array(corr_matrix), annot=True)\n",
    "fig.tight_layout()\n",
    "plt.show()"
   ]
  },
  {
   "cell_type": "markdown",
   "id": "eccb5c54",
   "metadata": {},
   "source": [
    "### Using Multivariate Linear Regression\n",
    "#### Data transformation\n",
    "Creating transformation of all the categorical features"
   ]
  },
  {
   "cell_type": "code",
   "execution_count": 27,
   "id": "df961de5",
   "metadata": {},
   "outputs": [],
   "source": [
    "import pyspark.ml.feature as ft\n",
    "\n",
    "model_indexer = ft.StringIndexer(inputCol=\"model\", outputCol=\"model-num\")\n",
    "model_encoder = ft.OneHotEncoder(inputCol=\"model-num\", outputCol='model-vec')\n",
    "transmission_indexer = ft.StringIndexer(inputCol=\"transmission\", outputCol=\"transmission-num\")\n",
    "transmission_encoder = ft.OneHotEncoder(inputCol=\"transmission-num\", outputCol='transmission-vec')\n",
    "fuelType_indexer = ft.StringIndexer(inputCol=\"fuelType\", outputCol=\"fuelType-num\")\n",
    "fuelType_encoder = ft.OneHotEncoder(inputCol=\"fuelType-num\", outputCol='fuelType-vec')"
   ]
  },
  {
   "cell_type": "markdown",
   "id": "3f0303a4",
   "metadata": {},
   "source": [
    "Assemble all the relevant columns into a single vector using the VectorAssembler"
   ]
  },
  {
   "cell_type": "code",
   "execution_count": 28,
   "id": "c5772075",
   "metadata": {},
   "outputs": [],
   "source": [
    "featuresCreator = ft.VectorAssembler(inputCols=[\"model-vec\", \"year\", \"transmission-vec\", \n",
    "                                                \"mileage\", \"fuelType-vec\", \"tax\", \"mpg\", \"engineSize\"], \n",
    "                                     outputCol='features')"
   ]
  },
  {
   "cell_type": "markdown",
   "id": "ba1f342c",
   "metadata": {},
   "source": [
    "#### Creating an Estimator"
   ]
  },
  {
   "cell_type": "code",
   "execution_count": 29,
   "id": "baee7d1d",
   "metadata": {},
   "outputs": [],
   "source": [
    "import pyspark.ml.regression as reg\n",
    "lr = reg.GeneralizedLinearRegression(labelCol=\"price\")"
   ]
  },
  {
   "cell_type": "markdown",
   "id": "feefa205",
   "metadata": {},
   "source": [
    "#### Creating a Pipeline\n",
    "\n",
    "Next, create a Pipeline to pull the different transformations together."
   ]
  },
  {
   "cell_type": "code",
   "execution_count": 30,
   "id": "69f09d18",
   "metadata": {},
   "outputs": [],
   "source": [
    "from pyspark.ml import Pipeline\n",
    "pipeline = Pipeline( stages = [model_indexer, model_encoder, transmission_indexer, transmission_encoder, \n",
    "                               fuelType_indexer, fuelType_encoder, featuresCreator, lr] )"
   ]
  },
  {
   "cell_type": "markdown",
   "id": "23a07228",
   "metadata": {},
   "source": [
    "#### Fitting the Model\n",
    "\n",
    "Split the dataset into training and testing datasets. Use 70% of the dataset for training and the remaining 30% for testing and the seed value 555."
   ]
  },
  {
   "cell_type": "code",
   "execution_count": 46,
   "id": "d701ca6e",
   "metadata": {},
   "outputs": [
    {
     "data": {
      "text/plain": [
       "DataFrame[id: int, model: string, year: int, price: int, transmission: string, mileage: int, fuelType: string, tax: int, mpg: double, engineSize: double]"
      ]
     },
     "execution_count": 46,
     "metadata": {},
     "output_type": "execute_result"
    }
   ],
   "source": [
    "car_train, car_test = car_df4.randomSplit([0.65, 0.35], seed=555)\n",
    "car_train.persist()"
   ]
  },
  {
   "cell_type": "markdown",
   "id": "72aa603d",
   "metadata": {},
   "source": [
    "Next, run your pipeline and estimate the model."
   ]
  },
  {
   "cell_type": "code",
   "execution_count": 47,
   "id": "55d64001",
   "metadata": {},
   "outputs": [],
   "source": [
    "model = pipeline.fit(car_train)"
   ]
  },
  {
   "cell_type": "markdown",
   "id": "f1eb3776",
   "metadata": {},
   "source": [
    "#### Evaluating the Performance of the Model\n",
    "\n",
    "Since we have created our linear regression model, let us use our testing dataset to see how well our model does its predictions:"
   ]
  },
  {
   "cell_type": "code",
   "execution_count": 48,
   "id": "17484f58",
   "metadata": {},
   "outputs": [
    {
     "name": "stdout",
     "output_type": "stream",
     "text": [
      "1116.3573397253185\n",
      "0.9357451006417389\n"
     ]
    }
   ],
   "source": [
    "import pyspark.ml.evaluation as ev\n",
    "\n",
    "predictions = model.transform(car_test)\n",
    "evaluator = ev.RegressionEvaluator(predictionCol=\"prediction\", labelCol=\"price\")\n",
    "print(evaluator.evaluate(predictions, {evaluator.metricName: 'rmse'}))\n",
    "print(evaluator.evaluate(predictions, {evaluator.metricName: 'r2'}))"
   ]
  },
  {
   "cell_type": "markdown",
   "id": "7fb9f8de",
   "metadata": {},
   "source": [
    "#### Using the Predictive Model\n",
    "used the predictive model to predict the price of any car."
   ]
  },
  {
   "cell_type": "code",
   "execution_count": 49,
   "id": "b83ef011",
   "metadata": {},
   "outputs": [
    {
     "data": {
      "text/plain": [
       "8171.612790824613"
      ]
     },
     "execution_count": 49,
     "metadata": {},
     "output_type": "execute_result"
    }
   ],
   "source": [
    "schema = [\"model\", \"year\", \"transmission\", \"fuelType\", \"mileage\", \"tax\", \"mpg\", \"engineSize\"]\n",
    "test_record = [ ( \"Yaris\", 2014, \"Automatic\", \"Petrol\", 45000, 135, 45.3, 1.5 ) ]\n",
    "df = spark.createDataFrame(test_record, schema=schema)\n",
    "model.transform(df).first().prediction"
   ]
  },
  {
   "cell_type": "markdown",
   "id": "1ef4b000",
   "metadata": {},
   "source": [
    "### Using decision tree for regression"
   ]
  },
  {
   "cell_type": "markdown",
   "id": "223e96c9",
   "metadata": {},
   "source": [
    "#### Creating an Estimator\n",
    "Next, we create our decision tree regression model."
   ]
  },
  {
   "cell_type": "code",
   "execution_count": 50,
   "id": "a101ef9c",
   "metadata": {},
   "outputs": [],
   "source": [
    "import pyspark.ml.regression as reg\n",
    "dr = reg.DecisionTreeRegressor(labelCol=\"price\")"
   ]
  },
  {
   "cell_type": "markdown",
   "id": "d1950d68",
   "metadata": {},
   "source": [
    "#### Creating a Pipeline\n",
    "Next, create a Pipeline to pull the different transformations together."
   ]
  },
  {
   "cell_type": "code",
   "execution_count": 51,
   "id": "219adf1d",
   "metadata": {},
   "outputs": [],
   "source": [
    "from pyspark.ml import Pipeline\n",
    "pipeline = Pipeline( stages = [model_indexer, model_encoder, transmission_indexer, transmission_encoder,\n",
    "                               fuelType_indexer, fuelType_encoder, featuresCreator, dr] )"
   ]
  },
  {
   "cell_type": "markdown",
   "id": "4ffab575",
   "metadata": {},
   "source": [
    "#### Fitting the Model\n",
    "Split the dataset into training and testing datasets. Use 70% of the dataset for training and the remaining 30% for testing and the seed value 555."
   ]
  },
  {
   "cell_type": "code",
   "execution_count": 58,
   "id": "c37f5916",
   "metadata": {},
   "outputs": [
    {
     "data": {
      "text/plain": [
       "DataFrame[id: int, model: string, year: int, price: int, transmission: string, mileage: int, fuelType: string, tax: int, mpg: double, engineSize: double]"
      ]
     },
     "execution_count": 58,
     "metadata": {},
     "output_type": "execute_result"
    }
   ],
   "source": [
    "car_train, car_test = car_df4.randomSplit([0.68, 0.32], seed=555)\n",
    "car_train.persist()"
   ]
  },
  {
   "cell_type": "markdown",
   "id": "059ea97b",
   "metadata": {},
   "source": [
    "Next, run your pipeline and estimate the model."
   ]
  },
  {
   "cell_type": "code",
   "execution_count": 59,
   "id": "9d263a28",
   "metadata": {},
   "outputs": [],
   "source": [
    "model = pipeline.fit(car_train)"
   ]
  },
  {
   "cell_type": "markdown",
   "id": "c8f0c8ce",
   "metadata": {},
   "source": [
    "#### Evaluating the Performance of the Model\n",
    "Since we have created our decision tree regression model, let us use our testing dataset to see how well our model does its predictions:"
   ]
  },
  {
   "cell_type": "code",
   "execution_count": 60,
   "id": "982f4d74",
   "metadata": {},
   "outputs": [
    {
     "name": "stdout",
     "output_type": "stream",
     "text": [
      "1471.9880744354737\n",
      "0.8871349841896771\n"
     ]
    }
   ],
   "source": [
    "import pyspark.ml.evaluation as ev\n",
    "\n",
    "predictions = model.transform(car_test)\n",
    "evaluator = ev.RegressionEvaluator(predictionCol=\"prediction\", labelCol=\"price\")\n",
    "print(evaluator.evaluate(predictions, {evaluator.metricName: 'rmse'}))\n",
    "print(evaluator.evaluate(predictions, {evaluator.metricName: 'r2'}))"
   ]
  },
  {
   "cell_type": "markdown",
   "id": "ec17b965",
   "metadata": {},
   "source": [
    "#### Using the Predictive Model\n",
    "\n",
    "used the predictive model to predict the price of any car."
   ]
  },
  {
   "cell_type": "code",
   "execution_count": 61,
   "id": "aeb41c25",
   "metadata": {},
   "outputs": [
    {
     "data": {
      "text/plain": [
       "9867.541984732825"
      ]
     },
     "execution_count": 61,
     "metadata": {},
     "output_type": "execute_result"
    }
   ],
   "source": [
    "schema = [\"model\", \"year\", \"transmission\", \"fuelType\", \"mileage\", \"tax\", \"mpg\", \"engineSize\"]\n",
    "test_record = [ ( \"Yaris\", 2014, \"Automatic\", \"Petrol\", 45000, 135, 45.3, 1.5 ) ]\n",
    "df = spark.createDataFrame(test_record, schema=schema)\n",
    "model.transform(df).first().prediction"
   ]
  },
  {
   "cell_type": "markdown",
   "id": "320a88b2",
   "metadata": {},
   "source": [
    "### Using Gradient-Boosted Trees for Regression (GBTs)\n",
    "#### Creating an Estimator\n",
    "Next, we create our Gradient-Boosted tree regression model."
   ]
  },
  {
   "cell_type": "code",
   "execution_count": 62,
   "id": "2bcd51d4",
   "metadata": {},
   "outputs": [],
   "source": [
    "import pyspark.ml.regression as reg\n",
    "gbt = reg.GBTRegressor(labelCol=\"price\")"
   ]
  },
  {
   "cell_type": "markdown",
   "id": "037fcf89",
   "metadata": {},
   "source": [
    "#### Creating a Pipeline\n",
    "\n",
    "Next, create a Pipeline to pull the different transformations together."
   ]
  },
  {
   "cell_type": "code",
   "execution_count": 63,
   "id": "738ab382",
   "metadata": {},
   "outputs": [],
   "source": [
    "from pyspark.ml import Pipeline\n",
    "pipeline = Pipeline( stages = [model_indexer, model_encoder, transmission_indexer, transmission_encoder,\n",
    "                               fuelType_indexer, fuelType_encoder, featuresCreator, gbt] )"
   ]
  },
  {
   "cell_type": "markdown",
   "id": "1ab498dc",
   "metadata": {},
   "source": [
    "#### Fitting the Model\n",
    "\n",
    "Split the dataset into training and testing datasets. Use 70% of the dataset for training and the remaining 30% for testing and the seed value 555."
   ]
  },
  {
   "cell_type": "code",
   "execution_count": 68,
   "id": "8cd52d6e",
   "metadata": {},
   "outputs": [
    {
     "data": {
      "text/plain": [
       "DataFrame[id: int, model: string, year: int, price: int, transmission: string, mileage: int, fuelType: string, tax: int, mpg: double, engineSize: double]"
      ]
     },
     "execution_count": 68,
     "metadata": {},
     "output_type": "execute_result"
    }
   ],
   "source": [
    "car_train, car_test = car_df4.randomSplit([0.65, 0.35], seed=555)\n",
    "car_train.persist()"
   ]
  },
  {
   "cell_type": "markdown",
   "id": "95621652",
   "metadata": {},
   "source": [
    "Next, run your pipeline and estimate the model."
   ]
  },
  {
   "cell_type": "code",
   "execution_count": 69,
   "id": "3103bf69",
   "metadata": {},
   "outputs": [],
   "source": [
    "model = pipeline.fit(car_train)"
   ]
  },
  {
   "cell_type": "markdown",
   "id": "48490e33",
   "metadata": {},
   "source": [
    "#### Evaluating the Performance of the Model\n",
    "\n",
    "Since we have created our gradient-boosted tree regression model, let us use our testing dataset to see how well our model does its predictions:"
   ]
  },
  {
   "cell_type": "code",
   "execution_count": 70,
   "id": "7b82b67c",
   "metadata": {},
   "outputs": [
    {
     "name": "stdout",
     "output_type": "stream",
     "text": [
      "1073.9485256270543\n",
      "0.9405342753230884\n"
     ]
    }
   ],
   "source": [
    "import pyspark.ml.evaluation as ev\n",
    "\n",
    "predictions = model.transform(car_test)\n",
    "evaluator = ev.RegressionEvaluator(predictionCol=\"prediction\", labelCol=\"price\")\n",
    "print(evaluator.evaluate(predictions, {evaluator.metricName: 'rmse'}))\n",
    "print(evaluator.evaluate(predictions, {evaluator.metricName: 'r2'}))"
   ]
  },
  {
   "cell_type": "markdown",
   "id": "a6f70c37",
   "metadata": {},
   "source": [
    "#### Using the Predictive Model\n",
    "\n",
    "used the predictive model to predict the price of any car."
   ]
  },
  {
   "cell_type": "code",
   "execution_count": 71,
   "id": "09bfa434",
   "metadata": {},
   "outputs": [
    {
     "data": {
      "text/plain": [
       "9521.615486622519"
      ]
     },
     "execution_count": 71,
     "metadata": {},
     "output_type": "execute_result"
    }
   ],
   "source": [
    "schema = [\"model\", \"year\", \"transmission\", \"fuelType\", \"mileage\", \"tax\", \"mpg\", \"engineSize\"]\n",
    "test_record = [ ( \"Yaris\", 2014, \"Automatic\", \"Petrol\", 45000, 135, 45.3, 1.5 ) ]\n",
    "df = spark.createDataFrame(test_record, schema=schema)\n",
    "model.transform(df).first().prediction"
   ]
  },
  {
   "cell_type": "markdown",
   "id": "dbf2d8be",
   "metadata": {},
   "source": [
    "### Using Random Forests Trees for Regression\n",
    "#### Creating an Estimator\n",
    "\n",
    "Next, we create our Random Forests tree regression model."
   ]
  },
  {
   "cell_type": "code",
   "execution_count": 72,
   "id": "27c2ed0a",
   "metadata": {},
   "outputs": [],
   "source": [
    "import pyspark.ml.regression as reg\n",
    "rf = reg.RandomForestRegressor(labelCol=\"price\")"
   ]
  },
  {
   "cell_type": "markdown",
   "id": "e2b0aa69",
   "metadata": {},
   "source": [
    "#### Creating a Pipeline\n",
    "\n",
    "Next, create a Pipeline to pull the different transformations together."
   ]
  },
  {
   "cell_type": "code",
   "execution_count": 73,
   "id": "d573bf7e",
   "metadata": {},
   "outputs": [],
   "source": [
    "from pyspark.ml import Pipeline\n",
    "pipeline = Pipeline( stages = [model_indexer, model_encoder, transmission_indexer, transmission_encoder,\n",
    "                               fuelType_indexer, fuelType_encoder, featuresCreator, rf] )"
   ]
  },
  {
   "cell_type": "markdown",
   "id": "a50a9fd2",
   "metadata": {},
   "source": [
    "#### Fitting the Model\n",
    "\n",
    "Split the dataset into training and testing datasets. Use 70% of the dataset for training and the remaining 30% for testing and the seed value 555."
   ]
  },
  {
   "cell_type": "code",
   "execution_count": 74,
   "id": "02f68f16",
   "metadata": {},
   "outputs": [
    {
     "data": {
      "text/plain": [
       "DataFrame[id: int, model: string, year: int, price: int, transmission: string, mileage: int, fuelType: string, tax: int, mpg: double, engineSize: double]"
      ]
     },
     "execution_count": 74,
     "metadata": {},
     "output_type": "execute_result"
    }
   ],
   "source": [
    "car_train, car_test = car_df4.randomSplit([0.7, 0.3], seed=555)\n",
    "car_train.persist()"
   ]
  },
  {
   "cell_type": "markdown",
   "id": "7599b369",
   "metadata": {},
   "source": [
    "Next, run your pipeline and estimate the model."
   ]
  },
  {
   "cell_type": "code",
   "execution_count": 75,
   "id": "c76a361a",
   "metadata": {},
   "outputs": [],
   "source": [
    "model = pipeline.fit(car_train)"
   ]
  },
  {
   "cell_type": "markdown",
   "id": "c0d747fc",
   "metadata": {},
   "source": [
    "#### Evaluating the Performance of the Model\n",
    "\n",
    "Since we have created our random forests tree regression model, let us use our testing dataset to see how well our model does its predictions:"
   ]
  },
  {
   "cell_type": "code",
   "execution_count": 76,
   "id": "835b09fa",
   "metadata": {},
   "outputs": [
    {
     "name": "stdout",
     "output_type": "stream",
     "text": [
      "1406.2819606856863\n",
      "0.8982327120973942\n"
     ]
    }
   ],
   "source": [
    "import pyspark.ml.evaluation as ev\n",
    "\n",
    "predictions = model.transform(car_test)\n",
    "evaluator = ev.RegressionEvaluator(predictionCol=\"prediction\", labelCol=\"price\")\n",
    "print(evaluator.evaluate(predictions, {evaluator.metricName: 'rmse'}))\n",
    "print(evaluator.evaluate(predictions, {evaluator.metricName: 'r2'}))"
   ]
  },
  {
   "cell_type": "markdown",
   "id": "fe50551b",
   "metadata": {},
   "source": [
    "#### Using the Predictive Model\n",
    "\n",
    "used the predictive model to predict the price of any car.\n"
   ]
  },
  {
   "cell_type": "code",
   "execution_count": 77,
   "id": "ee552b7b",
   "metadata": {},
   "outputs": [
    {
     "data": {
      "text/plain": [
       "8765.18425629505"
      ]
     },
     "execution_count": 77,
     "metadata": {},
     "output_type": "execute_result"
    }
   ],
   "source": [
    "schema = [\"model\", \"year\", \"transmission\", \"fuelType\", \"mileage\", \"tax\", \"mpg\", \"engineSize\"]\n",
    "test_record = [ ( \"Yaris\", 2014, \"Automatic\", \"Petrol\", 45000, 135, 45.3, 1.5 ) ]\n",
    "df = spark.createDataFrame(test_record, schema=schema)\n",
    "model.transform(df).first().prediction"
   ]
  }
 ],
 "metadata": {
  "kernelspec": {
   "display_name": "Python 3",
   "language": "python",
   "name": "python3"
  },
  "language_info": {
   "codemirror_mode": {
    "name": "ipython",
    "version": 3
   },
   "file_extension": ".py",
   "mimetype": "text/x-python",
   "name": "python",
   "nbconvert_exporter": "python",
   "pygments_lexer": "ipython3",
   "version": "3.8.8"
  }
 },
 "nbformat": 4,
 "nbformat_minor": 5
}
